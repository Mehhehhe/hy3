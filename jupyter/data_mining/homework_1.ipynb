{
 "cells": [
  {
   "cell_type": "markdown",
   "metadata": {},
   "source": [
    "Homework 1"
   ]
  },
  {
   "cell_type": "code",
   "execution_count": 38,
   "metadata": {},
   "outputs": [],
   "source": [
    "import pandas as pd\n",
    "import numpy as np"
   ]
  },
  {
   "cell_type": "markdown",
   "metadata": {},
   "source": [
    "Display dataset and explain attributes"
   ]
  },
  {
   "cell_type": "code",
   "execution_count": 39,
   "metadata": {},
   "outputs": [
    {
     "data": {
      "text/html": [
       "<div>\n",
       "<style scoped>\n",
       "    .dataframe tbody tr th:only-of-type {\n",
       "        vertical-align: middle;\n",
       "    }\n",
       "\n",
       "    .dataframe tbody tr th {\n",
       "        vertical-align: top;\n",
       "    }\n",
       "\n",
       "    .dataframe thead th {\n",
       "        text-align: right;\n",
       "    }\n",
       "</style>\n",
       "<table border=\"1\" class=\"dataframe\">\n",
       "  <thead>\n",
       "    <tr style=\"text-align: right;\">\n",
       "      <th></th>\n",
       "      <th>Brand</th>\n",
       "      <th>Variety</th>\n",
       "      <th>Style</th>\n",
       "      <th>Country</th>\n",
       "      <th>Stars</th>\n",
       "      <th>Top Ten</th>\n",
       "    </tr>\n",
       "    <tr>\n",
       "      <th>Review #</th>\n",
       "      <th></th>\n",
       "      <th></th>\n",
       "      <th></th>\n",
       "      <th></th>\n",
       "      <th></th>\n",
       "      <th></th>\n",
       "    </tr>\n",
       "  </thead>\n",
       "  <tbody>\n",
       "    <tr>\n",
       "      <th>2580</th>\n",
       "      <td>New Touch</td>\n",
       "      <td>T's Restaurant Tantanmen</td>\n",
       "      <td>Cup</td>\n",
       "      <td>Japan</td>\n",
       "      <td>3.75</td>\n",
       "      <td>NaN</td>\n",
       "    </tr>\n",
       "    <tr>\n",
       "      <th>2579</th>\n",
       "      <td>Just Way</td>\n",
       "      <td>Noodles Spicy Hot Sesame Spicy Hot Sesame Guan...</td>\n",
       "      <td>Pack</td>\n",
       "      <td>Taiwan</td>\n",
       "      <td>1</td>\n",
       "      <td>NaN</td>\n",
       "    </tr>\n",
       "    <tr>\n",
       "      <th>2578</th>\n",
       "      <td>Nissin</td>\n",
       "      <td>Cup Noodles Chicken Vegetable</td>\n",
       "      <td>Cup</td>\n",
       "      <td>USA</td>\n",
       "      <td>2.25</td>\n",
       "      <td>NaN</td>\n",
       "    </tr>\n",
       "    <tr>\n",
       "      <th>2577</th>\n",
       "      <td>Wei Lih</td>\n",
       "      <td>GGE Ramen Snack Tomato Flavor</td>\n",
       "      <td>Pack</td>\n",
       "      <td>Taiwan</td>\n",
       "      <td>2.75</td>\n",
       "      <td>NaN</td>\n",
       "    </tr>\n",
       "    <tr>\n",
       "      <th>2576</th>\n",
       "      <td>Ching's Secret</td>\n",
       "      <td>Singapore Curry</td>\n",
       "      <td>Pack</td>\n",
       "      <td>India</td>\n",
       "      <td>3.75</td>\n",
       "      <td>NaN</td>\n",
       "    </tr>\n",
       "  </tbody>\n",
       "</table>\n",
       "</div>"
      ],
      "text/plain": [
       "                   Brand                                            Variety  \\\n",
       "Review #                                                                      \n",
       "2580           New Touch                          T's Restaurant Tantanmen    \n",
       "2579            Just Way  Noodles Spicy Hot Sesame Spicy Hot Sesame Guan...   \n",
       "2578              Nissin                      Cup Noodles Chicken Vegetable   \n",
       "2577             Wei Lih                      GGE Ramen Snack Tomato Flavor   \n",
       "2576      Ching's Secret                                    Singapore Curry   \n",
       "\n",
       "         Style Country Stars Top Ten  \n",
       "Review #                              \n",
       "2580       Cup   Japan  3.75     NaN  \n",
       "2579      Pack  Taiwan     1     NaN  \n",
       "2578       Cup     USA  2.25     NaN  \n",
       "2577      Pack  Taiwan  2.75     NaN  \n",
       "2576      Pack   India  3.75     NaN  "
      ]
     },
     "execution_count": 39,
     "metadata": {},
     "output_type": "execute_result"
    }
   ],
   "source": [
    "ramen_reviews = pd.read_csv('ramen-ratings.csv', index_col = 0)\n",
    "ramen_reviews.shape\n",
    "ramen_reviews.head()"
   ]
  },
  {
   "cell_type": "markdown",
   "metadata": {},
   "source": [
    "#About dataset\n",
    "\n",
    "เป็นดาต้าเซตเกี่ยวกับรีวิวผลิตภัณฑ์ราเมนของหลายๆประเทศ และหลากหลายแบรนด์\n",
    "\n",
    "#Attributes\n",
    "- Review# คือ id ของการรีวิวราเมนของแต่ละแบรนด์จากนานาประเทศ\n",
    "- Brand คือ ชื่อแบรนด์ของราเมน\n",
    "- Variety คือ ชื่อเมนูของราเมน \n",
    "- Style คือ ประเภทของภาชนะที่ใส่ราเมน หรือ package ว่าเป็นถ้วยหรือซอง\n",
    "- Country คือ ประเทศที่ผลิต\n",
    "- Stars คือ จำนวนเรทติ้งที่ให้ คิดเป็นจำนวนดาว สูงสุดที่ 5 \n",
    "- Top Ten คือ บอกปีที่ติด 10 อันดับ และอันดับที่ติดในปีนั้น"
   ]
  },
  {
   "cell_type": "markdown",
   "metadata": {},
   "source": [
    "#2) Use these methods to normalize the following group of data: 200,300,400,600,1000 \n",
    "- (a)min-max normalization by setting min = 0 and max = 1 \n",
    "- (b)z-score normalization \n",
    "- (c)normalization by decimal scaling"
   ]
  },
  {
   "cell_type": "code",
   "execution_count": 40,
   "metadata": {},
   "outputs": [],
   "source": [
    "# Min-max normalization custom method\n",
    "def min_max_norm(array):\n",
    "    min = 0\n",
    "    max = 0\n",
    "    normed = [0] * len(array)\n",
    "    # Find minimum and maximum value from all values\n",
    "    for i in range(len(array)):\n",
    "        # Initialize min, max to first element\n",
    "        if i == 0:\n",
    "            min = max = array[i]\n",
    "            continue\n",
    "        if array[i] > max:\n",
    "            max = array[i]\n",
    "        if array[i] < min:\n",
    "            min = array[i]\n",
    "    print(\"Minimum and maximum: \",min,max)\n",
    "    # Enter formula and append into new array\n",
    "    # Scaling data between 0 and 1\n",
    "    for i in range(len(array)):\n",
    "        normed[i] = (array[i] - min)/(max-min)\n",
    "    return normed"
   ]
  },
  {
   "cell_type": "code",
   "execution_count": 41,
   "metadata": {},
   "outputs": [],
   "source": [
    "def z_score(arr):\n",
    "    mean = sum(arr)/len(arr)\n",
    "    diff_sum = sum([(val - mean)**2 for val in arr])\n",
    "    standard_deviation = (diff_sum/(len(arr)-1))**0.5\n",
    "    print(\"Standard deviation: \", standard_deviation)\n",
    "    # Z score formula\n",
    "    zscores = [(val-mean)/standard_deviation for val in arr]\n",
    "    return zscores"
   ]
  },
  {
   "cell_type": "code",
   "execution_count": 42,
   "metadata": {},
   "outputs": [],
   "source": [
    "normed_dec = []\n",
    "def dec_scale(arr, init_unit=1):\n",
    "    for i in arr:\n",
    "        if i/init_unit <= 1:\n",
    "            normed_dec.append(i/init_unit)\n",
    "        else:\n",
    "            normed_dec.clear()\n",
    "            dec_scale(arr, init_unit*10)\n",
    "    return normed_dec"
   ]
  },
  {
   "cell_type": "code",
   "execution_count": 43,
   "metadata": {},
   "outputs": [
    {
     "name": "stdout",
     "output_type": "stream",
     "text": [
      "Minimum and maximum:  200 1000\n",
      "Min-max normalization:  [0.0, 0.125, 0.25, 0.5, 1.0]\n"
     ]
    }
   ],
   "source": [
    "data_group = [200,300,400,600,1000]\n",
    "normalized_data = min_max_norm(data_group)\n",
    "print(\"Min-max normalization: \",normalized_data)"
   ]
  },
  {
   "cell_type": "code",
   "execution_count": 44,
   "metadata": {},
   "outputs": [
    {
     "name": "stdout",
     "output_type": "stream",
     "text": [
      "Standard deviation:  316.22776601683796\n",
      "Z-score:  [-0.9486832980505138, -0.6324555320336758, -0.3162277660168379, 0.3162277660168379, 1.5811388300841895]\n"
     ]
    }
   ],
   "source": [
    "z_score_data = z_score(data_group)\n",
    "print(\"Z-score: \",z_score_data)"
   ]
  },
  {
   "cell_type": "code",
   "execution_count": 45,
   "metadata": {},
   "outputs": [
    {
     "name": "stdout",
     "output_type": "stream",
     "text": [
      "Decimal scaling:  [0.2, 0.3, 0.4, 0.6, 1.0]\n"
     ]
    }
   ],
   "source": [
    "decimal_scaled_data = dec_scale(data_group)\n",
    "print(\"Decimal scaling: \", decimal_scaled_data)"
   ]
  },
  {
   "cell_type": "markdown",
   "metadata": {},
   "source": [
    "#3 x={5.5,2.7,3.2,2.9,4.1,3.3,3.0,2.0,2.5,2.1}, y={3.4,1.9,3.9,3.2,4.0,3.7,2.6,2.5,2,1.9}\n",
    "- Use PCA to find new dimension of data"
   ]
  },
  {
   "cell_type": "code",
   "execution_count": 46,
   "metadata": {},
   "outputs": [],
   "source": [
    "def PCA(x):\n",
    "    xnorm = x - x.mean(axis=0)\n",
    "    cov = np.dot(xnorm.T, xnorm)/(xnorm.shape[0]-1)\n",
    "    eigen_value, eigen_vector = np.linalg.eig(cov)\n",
    "    x_dat = np.dot(eigen_vector.T, xnorm.T)\n",
    "    variane_ratio = eigen_value/eigen_value.sum()\n",
    "    cumsum = variane_ratio.cumsum()\n",
    "    result_table = np.array([eigen_value,variane_ratio,cumsum])\n",
    "    return x_dat.T, result_table, eigen_vector"
   ]
  },
  {
   "cell_type": "code",
   "execution_count": 47,
   "metadata": {},
   "outputs": [
    {
     "data": {
      "text/html": [
       "<div>\n",
       "<style scoped>\n",
       "    .dataframe tbody tr th:only-of-type {\n",
       "        vertical-align: middle;\n",
       "    }\n",
       "\n",
       "    .dataframe tbody tr th {\n",
       "        vertical-align: top;\n",
       "    }\n",
       "\n",
       "    .dataframe thead th {\n",
       "        text-align: right;\n",
       "    }\n",
       "</style>\n",
       "<table border=\"1\" class=\"dataframe\">\n",
       "  <thead>\n",
       "    <tr style=\"text-align: right;\">\n",
       "      <th></th>\n",
       "      <th>x</th>\n",
       "      <th>y</th>\n",
       "    </tr>\n",
       "  </thead>\n",
       "  <tbody>\n",
       "    <tr>\n",
       "      <th>0</th>\n",
       "      <td>5.5</td>\n",
       "      <td>3.4</td>\n",
       "    </tr>\n",
       "    <tr>\n",
       "      <th>1</th>\n",
       "      <td>2.7</td>\n",
       "      <td>1.9</td>\n",
       "    </tr>\n",
       "    <tr>\n",
       "      <th>2</th>\n",
       "      <td>3.2</td>\n",
       "      <td>3.9</td>\n",
       "    </tr>\n",
       "    <tr>\n",
       "      <th>3</th>\n",
       "      <td>2.9</td>\n",
       "      <td>3.2</td>\n",
       "    </tr>\n",
       "    <tr>\n",
       "      <th>4</th>\n",
       "      <td>4.1</td>\n",
       "      <td>4.0</td>\n",
       "    </tr>\n",
       "  </tbody>\n",
       "</table>\n",
       "</div>"
      ],
      "text/plain": [
       "     x    y\n",
       "0  5.5  3.4\n",
       "1  2.7  1.9\n",
       "2  3.2  3.9\n",
       "3  2.9  3.2\n",
       "4  4.1  4.0"
      ]
     },
     "execution_count": 47,
     "metadata": {},
     "output_type": "execute_result"
    }
   ],
   "source": [
    "data = pd.DataFrame({\"x\":[5.5,2.7,3.2,2.9,4.1,3.3,3.0,2.0,2.5,2.1],\"y\":[3.4,1.9,3.9,3.2,4.0,3.7,2.6,2.5,2,1.9]})\n",
    "data.head()"
   ]
  },
  {
   "cell_type": "code",
   "execution_count": 48,
   "metadata": {},
   "outputs": [
    {
     "name": "stdout",
     "output_type": "stream",
     "text": [
      "Data after PCA:  [[ 2.21188745 -0.98211705]\n",
      " [-0.93781102 -0.57053527]\n",
      " [ 0.63353139  0.76396203]\n",
      " [-0.01804627  0.36969492]\n",
      " [ 1.42335323  0.32103827]\n",
      " [ 0.59832653  0.54314396]\n",
      " [-0.28623336 -0.17626816]\n",
      " [-1.15734145  0.32490115]\n",
      " [-1.04213797 -0.3727579 ]\n",
      " [-1.42552854 -0.22106193]] ,\n",
      "Result: [[1.45523381 0.30365508]\n",
      " [0.82735972 0.17264028]\n",
      " [0.82735972 1.        ]] \n",
      "Eigen Vector: [[ 0.81286254 -0.58245557]\n",
      " [ 0.58245557  0.81286254]]\n"
     ]
    }
   ],
   "source": [
    "data_dat, res_table, ev = PCA(data)\n",
    "print(\"Data after PCA: \",data_dat, \",\\nResult:\", res_table, \"\\nEigen Vector:\", ev)"
   ]
  }
 ],
 "metadata": {
  "interpreter": {
   "hash": "585af805835a437d0a1ec4071af717fe017487a9a70ad765182c05bfbb3a22e7"
  },
  "kernelspec": {
   "display_name": "Python 3.7.9 64-bit (windows store)",
   "language": "python",
   "name": "python3"
  },
  "language_info": {
   "codemirror_mode": {
    "name": "ipython",
    "version": 3
   },
   "file_extension": ".py",
   "mimetype": "text/x-python",
   "name": "python",
   "nbconvert_exporter": "python",
   "pygments_lexer": "ipython3",
   "version": "3.7.9"
  },
  "orig_nbformat": 4
 },
 "nbformat": 4,
 "nbformat_minor": 2
}
